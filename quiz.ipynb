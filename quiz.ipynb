{
  "nbformat": 4,
  "nbformat_minor": 0,
  "metadata": {
    "colab": {
      "provenance": [],
      "authorship_tag": "ABX9TyMUGDiwogeoG+zzQN+zqrwi",
      "include_colab_link": true
    },
    "kernelspec": {
      "name": "python3",
      "display_name": "Python 3"
    },
    "language_info": {
      "name": "python"
    }
  },
  "cells": [
    {
      "cell_type": "markdown",
      "metadata": {
        "id": "view-in-github",
        "colab_type": "text"
      },
      "source": [
        "<a href=\"https://colab.research.google.com/github/Taif6612/cs203/blob/main/quiz.ipynb\" target=\"_parent\"><img src=\"https://colab.research.google.com/assets/colab-badge.svg\" alt=\"Open In Colab\"/></a>"
      ]
    },
    {
      "cell_type": "code",
      "execution_count": null,
      "metadata": {
        "colab": {
          "base_uri": "https://localhost:8080/"
        },
        "id": "ZL9TvlkbRD9K",
        "outputId": "292d0f15-c12c-4c6d-deba-b25259f3acc6"
      },
      "outputs": [
        {
          "output_type": "stream",
          "name": "stdout",
          "text": [
            "True\n",
            "list is empty\n",
            "['B', 'A', 'C', 'D']\n",
            "['B', 'A', 'C']\n",
            "['B', 'A', 'C', 10]\n",
            "['B', 'A', 'C', 10, 30, 50]\n",
            "50\n",
            "10\n",
            "['B', 'A', 'C', 10, 20, 30]\n"
          ]
        }
      ],
      "source": [
        "#q1\n",
        "class stack:\n",
        "  def __init__(self):\n",
        "    self.items = []\n",
        "  def isEmpty(self):\n",
        "    return len(self.items) == 0\n",
        "  def push(self,items):\n",
        "    self.items.append(items)\n",
        "  def pop(self):\n",
        "    if self.isEmpty() == True:\n",
        "      print(\"Stack empty\")\n",
        "    else:\n",
        "      return self.items.pop()\n",
        "  def peek(self):\n",
        "    if self.isEmpty() == True:\n",
        "      print(\"list is empty\")\n",
        "    else:\n",
        "      return self.items[-1]\n",
        "  def size(self):\n",
        "    return len(self.items)\n",
        "  def printStack(self):\n",
        "    if self.isEmpty() == True:\n",
        "      print(\"Stack is empty\")\n",
        "    else:\n",
        "      print(self.items)\n",
        "\n",
        "s = stack()\n",
        "print(s.isEmpty())\n",
        "s.peek()\n",
        "s.push('B')\n",
        "s.push('A')\n",
        "s.push('C')\n",
        "s.push('D')\n",
        "s.printStack()\n",
        "s.pop()\n",
        "s.printStack()\n",
        "s.push(10)\n",
        "s.printStack()\n",
        "s.push(30)\n",
        "s.push(50)\n",
        "s.printStack()\n",
        "print(s.peek())\n",
        "s.pop()\n",
        "s.pop()\n",
        "\n",
        "print(s.peek())\n",
        "s.push(20)\n",
        "s.push(30)\n",
        "\n",
        "s.printStack()\n",
        "\n",
        "\n",
        "\n",
        "\n"
      ]
    },
    {
      "cell_type": "code",
      "source": [
        "#q1 reverse\n",
        "class stack:\n",
        "  def __init__(self):\n",
        "    self.items = []\n",
        "  def isEmpty(self):\n",
        "    return len(self.items) == 0\n",
        "  def push(self,items):\n",
        "    self.items.append(items)\n",
        "  def pop(self):\n",
        "    if self.isEmpty() == True:\n",
        "      print(\"Stack empty\")\n",
        "    else:\n",
        "      return self.items.pop()\n",
        "  def peek(self):\n",
        "    if self.isEmpty() == True:\n",
        "      print(\"list is empty\")\n",
        "    else:\n",
        "      return self.items[-1]\n",
        "  def size(self):\n",
        "    return len(self.items)\n",
        "  def printStack(self):\n",
        "    if self.isEmpty() == True:\n",
        "      print(\"Stack is empty\")\n",
        "    else:\n",
        "      print(self.items)\n",
        "\n",
        "s1 = stack()\n",
        "\n",
        "def reverse_string(data):\n",
        "  for char in data:\n",
        "    s1.push(char)\n",
        "\n",
        "  rev_string = ''\n",
        "\n",
        "  while not s1.isEmpty():\n",
        "    char = s1.pop()\n",
        "    rev_string += char\n",
        "    print(\"unicode of\",char,\"is\",ord(char))\n",
        "\n",
        "  print(data)\n",
        "  return rev_string\n",
        "\n",
        "\n",
        "reverse_string(\"Watermelon\")\n",
        "\n"
      ],
      "metadata": {
        "colab": {
          "base_uri": "https://localhost:8080/",
          "height": 239
        },
        "id": "pNiX7ybQoEC8",
        "outputId": "7060ab82-7423-4b38-e652-17e952e47ee3"
      },
      "execution_count": null,
      "outputs": [
        {
          "output_type": "stream",
          "name": "stdout",
          "text": [
            "unicode of n is 110\n",
            "unicode of o is 111\n",
            "unicode of l is 108\n",
            "unicode of e is 101\n",
            "unicode of m is 109\n",
            "unicode of r is 114\n",
            "unicode of e is 101\n",
            "unicode of t is 116\n",
            "unicode of a is 97\n",
            "unicode of W is 87\n",
            "Watermelon\n"
          ]
        },
        {
          "output_type": "execute_result",
          "data": {
            "text/plain": [
              "'nolemretaW'"
            ],
            "application/vnd.google.colaboratory.intrinsic+json": {
              "type": "string"
            }
          },
          "metadata": {},
          "execution_count": 10
        }
      ]
    },
    {
      "cell_type": "code",
      "source": [
        "#q2\n",
        "\n",
        "class stack:\n",
        "  def __init__(self):\n",
        "    self.items = []\n",
        "  def isEmpty(self):\n",
        "    return len(self.items) == 0\n",
        "  def push(self,items):\n",
        "    self.items.append(items)\n",
        "  def pop(self):\n",
        "    if self.isEmpty() == True:\n",
        "      print(\"Stack empty\")\n",
        "    else:\n",
        "      return self.items.pop()\n",
        "  def peek(self):\n",
        "    if self.isEmpty() == True:\n",
        "      print(\"list is empty\")\n",
        "    else:\n",
        "      return self.items[-1]\n",
        "  def size(self):\n",
        "    return len(self.items)\n",
        "  def printStack(self):\n",
        "    if self.isEmpty() == True:\n",
        "      print(\"Stack is empty\")\n",
        "    else:\n",
        "      print(self.items)\n",
        "\n",
        "\n",
        "s1= stack()\n",
        "\n",
        "def is_balanced(brackets):\n",
        "  for char in brackets:\n",
        "    if char in ['(','{',\"[\"]:\n",
        "      s1.push(char)\n",
        "    else:\n",
        "      if s1.isEmpty():\n",
        "        return False\n",
        "\n",
        "      top_bracket = s1.pop()\n",
        "      if char == \"}\" and top_bracket != \"{\":\n",
        "        return False\n",
        "      elif char == \")\" and top_bracket != \"(\":\n",
        "        return False\n",
        "      elif char == \"]\" and top_bracket != \"[\":\n",
        "        return False\n",
        "\n",
        "  return s1.isEmpty()\n",
        "\n",
        "\n",
        "test_cases = [\"()\", \"{}\", \"[]\", \"{[]}\", \"{([)]}\", \"(()\", \"{[(]}\"]\n",
        "\n",
        "for brackets in test_cases:\n",
        "    if is_balanced(brackets):\n",
        "        print(brackets, \"True\")\n",
        "    else:\n",
        "        print(brackets, \"False\")"
      ],
      "metadata": {
        "id": "rD5pNJ-suLRC",
        "colab": {
          "base_uri": "https://localhost:8080/"
        },
        "outputId": "4c742d17-32c7-49cd-9bf1-ee50947c634b"
      },
      "execution_count": 1,
      "outputs": [
        {
          "output_type": "stream",
          "name": "stdout",
          "text": [
            "() True\n",
            "{} True\n",
            "[] True\n",
            "{[]} True\n",
            "{([)]} False\n",
            "(() False\n",
            "{[(]} False\n"
          ]
        }
      ]
    }
  ]
}